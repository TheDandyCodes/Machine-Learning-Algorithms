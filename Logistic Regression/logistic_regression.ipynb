{
 "cells": [
  {
   "cell_type": "code",
   "execution_count": 121,
   "metadata": {},
   "outputs": [],
   "source": [
    "import numpy as np\n",
    "from sklearn import datasets\n",
    "from sklearn.model_selection import train_test_split\n",
    "import matplotlib.pyplot as plt"
   ]
  },
  {
   "cell_type": "code",
   "execution_count": 122,
   "metadata": {},
   "outputs": [],
   "source": [
    "data = datasets.load_breast_cancer()\n",
    "X, y = data.data, data.target\n",
    "X_train, X_test, y_train, y_test = train_test_split(X, y, test_size=0.2, random_state=1234)\n",
    "X_train, X_test, y_train, y_test = X_train.T, X_test.T, y_train.reshape(1, y_train.shape[0]), y_test.reshape(1, y_test.shape[0])"
   ]
  },
  {
   "cell_type": "code",
   "execution_count": 123,
   "metadata": {},
   "outputs": [],
   "source": [
    "class LogisticRegression:\n",
    "    def __init__(self, lr=0.01, n_iters=1000):\n",
    "        self.lr = lr\n",
    "        self.n_iters = n_iters\n",
    "        self.w = None\n",
    "        self.b = None\n",
    "\n",
    "    def init_parameters(self, X):\n",
    "        self.w = np.zeros((1, X.shape[0]))\n",
    "        self.b = 0\n",
    "\n",
    "    def forward_propagation(self, X):\n",
    "        z = np.dot(self.w, X) + self.b\n",
    "        y_hat = 1/(1+np.exp(-z))\n",
    "        return y_hat\n",
    "\n",
    "    def backward_propagation(self, y_hat, y, X):\n",
    "        dw = np.dot((y_hat - y), X.T) * (1/X.shape[1])\n",
    "        db = np.sum((y_hat - y), axis=1, keepdims=True) * (1/X.shape[1])\n",
    "        grads = {\n",
    "            \"dw\":dw,\n",
    "            \"db\":db\n",
    "        }\n",
    "        return grads\n",
    "\n",
    "    def update_paramters(self, grads):\n",
    "        self.w -= self.lr * grads[\"dw\"]\n",
    "        self.b -= self.lr * grads[\"db\"]\n",
    "\n",
    "    def predict(self, X):\n",
    "        z = np.dot(self.w, X) + self.b\n",
    "        y_hat = np.squeeze(1/(1+np.exp(-z)))\n",
    "        class_prediction = [0 if y<=0.5 else 1 for y in y_hat]\n",
    "        return class_prediction\n",
    "\n",
    "    def accuracy(self, predictions, y):\n",
    "        a = np.sum(predictions==y, axis=1)/y_test.shape[1]\n",
    "        return a"
   ]
  },
  {
   "cell_type": "code",
   "execution_count": 124,
   "metadata": {},
   "outputs": [
    {
     "name": "stderr",
     "output_type": "stream",
     "text": [
      "C:\\Users\\richi\\AppData\\Local\\Temp\\ipykernel_10008\\405620355.py:14: RuntimeWarning: overflow encountered in exp\n",
      "  y_hat = 1/(1+np.exp(-z))\n"
     ]
    },
    {
     "name": "stdout",
     "output_type": "stream",
     "text": [
      "[0.92105263]\n"
     ]
    },
    {
     "name": "stderr",
     "output_type": "stream",
     "text": [
      "C:\\Users\\richi\\AppData\\Local\\Temp\\ipykernel_10008\\405620355.py:32: RuntimeWarning: overflow encountered in exp\n",
      "  y_hat = np.squeeze(1/(1+np.exp(-z)))\n"
     ]
    }
   ],
   "source": [
    "model = LogisticRegression(lr=0.01, n_iters=1000)\n",
    "model.init_parameters(X_train)\n",
    "for i in range(model.n_iters):\n",
    "    y_hat = model.forward_propagation(X_train)\n",
    "    grads = model.backward_propagation(y_hat, y_train, X_train)\n",
    "    model.update_paramters(grads)\n",
    "classifications = model.predict(X_test)\n",
    "accuracy = model.accuracy(classifications, y_test)\n",
    "print(accuracy)"
   ]
  }
 ],
 "metadata": {
  "kernelspec": {
   "display_name": "Python 3.8.10 64-bit",
   "language": "python",
   "name": "python3"
  },
  "language_info": {
   "codemirror_mode": {
    "name": "ipython",
    "version": 3
   },
   "file_extension": ".py",
   "mimetype": "text/x-python",
   "name": "python",
   "nbconvert_exporter": "python",
   "pygments_lexer": "ipython3",
   "version": "3.8.10"
  },
  "orig_nbformat": 4,
  "vscode": {
   "interpreter": {
    "hash": "47f0923bc2e9cc54073c21d1d17341f890c741809d6853df30d3668046d5860b"
   }
  }
 },
 "nbformat": 4,
 "nbformat_minor": 2
}
