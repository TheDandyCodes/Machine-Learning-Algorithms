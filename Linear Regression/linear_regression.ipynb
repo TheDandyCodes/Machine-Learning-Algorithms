{
 "cells": [
  {
   "cell_type": "code",
   "execution_count": 91,
   "metadata": {},
   "outputs": [],
   "source": [
    "import numpy as np\n",
    "from sklearn import datasets\n",
    "from sklearn.model_selection import train_test_split\n",
    "import matplotlib.pyplot as plt"
   ]
  },
  {
   "cell_type": "code",
   "execution_count": 92,
   "metadata": {},
   "outputs": [],
   "source": [
    "# X = np.array([[1, 4], [2, 5], [3, 6]])\n",
    "# y = np.array([1, 3])\n",
    "# x_test = np.array([[1],[2],[3]])"
   ]
  },
  {
   "cell_type": "code",
   "execution_count": 106,
   "metadata": {},
   "outputs": [
    {
     "data": {
      "image/png": "[encoded data removed]",
      "text/plain": [
       "<Figure size 576x432 with 1 Axes>"
      ]
     },
     "metadata": {
      "needs_background": "light"
     },
     "output_type": "display_data"
    }
   ],
   "source": [
    "X, y = datasets.make_regression()\n",
    "X_train, X_test, y_train, y_test = train_test_split(X, y, test_size=0.2, random_state=1234)\n",
    "fig = plt.figure(figsize=(8,6))\n",
    "plt.scatter(X[:,0], y, color=\"r\", marker=\"o\", s=30)\n",
    "plt.show()\n",
    "X, y, X_train, X_test, y_train, y_test = X.T, y.T, X_train.T, X_test.T, y_train.reshape(1, y_train.shape[0]), y_test.reshape(1, y_test.shape[0])\n"
   ]
  },
  {
   "cell_type": "code",
   "execution_count": 116,
   "metadata": {},
   "outputs": [],
   "source": [
    "class LinearRegression:\n",
    "    def __init__(self, lr=0.001, n_iters=1000):\n",
    "        self.lr = lr\n",
    "        self.n_iters = n_iters\n",
    "        self.w = None\n",
    "        self.b = None\n",
    "    \n",
    "    def init(self):\n",
    "        self.w = np.zeros((1,X.shape[0]))\n",
    "        \n",
    "        self.b = 0\n",
    "\n",
    "    def BackPropagation(self, X, y):\n",
    "        y_hat = np.dot(self.w, X) + self.b\n",
    "        dw = np.dot((y-y_hat), X.T) * (-2/X.shape[1])\n",
    "        db = np.sum((y-y_hat) * (-2/X.shape[1]), axis=1, keepdims=True)\n",
    "\n",
    "        grads = {\n",
    "            \"dw\" : dw,\n",
    "            \"db\" : db\n",
    "        }\n",
    "\n",
    "        return grads\n",
    "\n",
    "    def update_parameters(self, grads):\n",
    "        self.w -= self.lr * grads[\"dw\"]\n",
    "        self.b -= self.lr * grads[\"db\"]\n",
    "\n",
    "        parameters = {\n",
    "            \"w\" : self.w,\n",
    "            \"b\" : self.b\n",
    "        }\n",
    "\n",
    "        return parameters\n",
    "\n",
    "    def predict(self, x, parameters):\n",
    "        y_hat = np.dot(parameters[\"w\"], x) + parameters[\"b\"]\n",
    "        return y_hat\n",
    "    \n",
    "    def MSE(self, y_hat, y):\n",
    "        MSE = np.squeeze(np.sum((y_hat-y)**2, axis=1) / y_hat.shape[1])\n",
    "        #MSE = np.mean((y_hat-y)**2) --> Another way to get the MSE\n",
    "        return MSE\n",
    "\n",
    "\n"
   ]
  },
  {
   "cell_type": "code",
   "execution_count": 121,
   "metadata": {},
   "outputs": [
    {
     "name": "stdout",
     "output_type": "stream",
     "text": [
      "3676.1643695133303\n"
     ]
    }
   ],
   "source": [
    "model = LinearRegression(lr=0.01)\n",
    "model.init()\n",
    "for i in range(model.n_iters):\n",
    "    grads = model.BackPropagation(X_train, y_train)\n",
    "    parameters = model.update_parameters(grads)\n",
    "prediction = model.predict(X_test, parameters)\n",
    "error = model.MSE(prediction, y_test)\n",
    "print(error)\n",
    "\n"
   ]
  }
 ],
 "metadata": {
  "kernelspec": {
   "display_name": "Python 3.8.10 64-bit",
   "language": "python",
   "name": "python3"
  },
  "language_info": {
   "codemirror_mode": {
    "name": "ipython",
    "version": 3
   },
   "file_extension": ".py",
   "mimetype": "text/x-python",
   "name": "python",
   "nbconvert_exporter": "python",
   "pygments_lexer": "ipython3",
   "version": "3.8.10"
  },
  "orig_nbformat": 4,
  "vscode": {
   "interpreter": {
    "hash": "47f0923bc2e9cc54073c21d1d17341f890c741809d6853df30d3668046d5860b"
   }
  }
 },
 "nbformat": 4,
 "nbformat_minor": 2
}
